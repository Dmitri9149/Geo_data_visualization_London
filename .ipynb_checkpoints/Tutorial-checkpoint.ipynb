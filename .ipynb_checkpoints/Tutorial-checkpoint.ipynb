{
 "cells": [
  {
   "cell_type": "markdown",
   "metadata": {},
   "source": [
    "# Creating Maps using Python"
   ]
  },
  {
   "cell_type": "markdown",
   "metadata": {},
   "source": [
    "If you go around the internet, there are plenty of libraries available for you to use. Depending on the case, you may choose one or another. Before getting started here are a few things you should know about maps:"
   ]
  },
  {
   "cell_type": "markdown",
   "metadata": {},
   "source": [
    "## _**!! Word of caution !!**_"
   ]
  },
  {
   "cell_type": "markdown",
   "metadata": {},
   "source": [
    "Dealing with images is very **resource intensive** and demands a lot of **computing power**. If you decide to work with maps, make sure to make things as general as possible and work smartly. The **more detail**, the **heavier** and harder to deal it will be. Make sure that you **restrict the features** to the area you are working at. There is no point of covering the physical features of the whole planet if you are focusing on the demograpfics of diferent neighborhoods in Helsinki."
   ]
  },
  {
   "cell_type": "markdown",
   "metadata": {},
   "source": [
    "## Images (Vectors vs Raster)"
   ]
  },
  {
   "cell_type": "markdown",
   "metadata": {},
   "source": [
    "Whenever you think about pictures and how they are represented digitaly, there are basically two types of representation, **raster** and **vectors**.\n",
    "\n",
    "_**Raster**_ is a grid of pixels: think of a picture that you take with your phone and how it's represented, that's a raster image.\n",
    "\n",
    "_**Vector**_ images don't rely on a matrix of pixels like raster does, instead they use models are based on points, lines and polygons to represent an object.\n",
    "\n",
    "Here is a [link](https://gisgeography.com/spatial-data-types-vector-raster/) if you want to learn more about this."
   ]
  },
  {
   "cell_type": "markdown",
   "metadata": {},
   "source": [
    "## Maps (What are they)"
   ]
  },
  {
   "cell_type": "markdown",
   "metadata": {},
   "source": [
    "Map is a loaded word, so let's try to define what we are talking about when we say maps:\n",
    "\n",
    "According to the Cambridge Dictionary:\n",
    "> a drawing of the earth's surface, or part of that surface, showing the shape and position of different countries, political borders, natural features such as rivers and mountains, and artificial features such as roads and buildings: \n",
    "\n",
    "Maps are usually two-dimensional graphical representations of a physical (three-dimensional) objects. "
   ]
  },
  {
   "cell_type": "markdown",
   "metadata": {},
   "source": [
    "## Some important concepts, *map projection* and *datum*"
   ]
  },
  {
   "cell_type": "markdown",
   "metadata": {},
   "source": [
    "From Wikipedia:\n",
    "> A map projection is a systematic transformation of the latitudes and longitudes of locations from the surface of a sphere or an ellipsoid into locations on a plane.\n",
    "\n",
    ">A geodetic datum or geodetic system (also: geodetic reference datum or geodetic reference system) is a coordinate system, and a set of reference points, used to locate places on the Earth (or similar objects).\n",
    "\n",
    "This two concepts are key to understanding how we can represent the planet on a flat surface. Different projections serve different purposes, for instance: if it's important to minimize area distortion, conic projections work best.On the other hand, cilindrical projections work best maintaining overall shape of features.\n",
    "\n",
    "Datum is important because it determines where objects are located in relation to each other and the planet. Make sure to be consistent on the datum you are using."
   ]
  },
  {
   "cell_type": "markdown",
   "metadata": {},
   "source": [
    "## Common filetypes"
   ]
  },
  {
   "cell_type": "markdown",
   "metadata": {},
   "source": [
    "### Shapefile"
   ]
  },
  {
   "cell_type": "markdown",
   "metadata": {},
   "source": [
    "> The **shapefile** format is a popular geospatial vector data format for geographic information system (GIS) software. It is developed and regulated by Esri as a (mostly) open specification for data interoperability among Esri and other GIS software products. The shapefile format can spatially describe vector features: points, lines, and polygons, representing, for example, water wells, rivers, and lakes. Each item usually has attributes that describe it, such as name or temperature.\n",
    "\n",
    "link to [full article](https://en.wikipedia.org/wiki/Shapefile)"
   ]
  },
  {
   "cell_type": "markdown",
   "metadata": {},
   "source": [
    "### GeoJSON"
   ]
  },
  {
   "cell_type": "markdown",
   "metadata": {},
   "source": [
    "> GeoJSON is an open standard format designed for representing simple geographical features, along with their non-spatial attributes. It is based on JSON, the JavaScript Object Notation.\n",
    "\n",
    "link to [full article](https://en.wikipedia.org/wiki/GeoJSON)"
   ]
  },
  {
   "cell_type": "markdown",
   "metadata": {},
   "source": [
    "## Libraries and Modules"
   ]
  },
  {
   "cell_type": "markdown",
   "metadata": {},
   "source": [
    "Here are some of the tools you can get yourself familiarized with:\n",
    "\n",
    "- [Geopandas](http://geopandas.org/mapping.html): It is a library to work with geospatial data extending the datatypes used by pandas. Here is a [tutorial](https://towardsdatascience.com/lets-make-a-map-using-geopandas-pandas-and-matplotlib-to-make-a-chloropleth-map-dddc31c1983d)\n",
    "- [Vincent](https://vincent.readthedocs.io/en/latest/): Python to Vega translator, great for data exploration. Here is a [tutorial](https://wrobstory.github.io/2013/10/mapping-data-python.html)\n",
    "- [gmplot](https://github.com/vgm64/gmplot): Module to plot data on top of Google Maps. Here is a [tutorial](https://www.tutorialspoint.com/plotting-google-map-using-gmplot-package-in-python)\n",
    "- [plotly](https://plot.ly/python/maps/): This is a very popular library that allows you to plot and make maps with integration with Mapbox."
   ]
  },
  {
   "cell_type": "markdown",
   "metadata": {},
   "source": [
    "## Tutorial"
   ]
  },
  {
   "cell_type": "markdown",
   "metadata": {},
   "source": [
    "This tutorial teaches you how to creat a choropleth map. Some of the steps taken just show how to deal with a few hickups uoi may encounter along the way. The material is pretty much the same as the [tutorial](https://towardsdatascience.com/lets-make-a-map-using-geopandas-pandas-and-matplotlib-to-make-a-chloropleth-map-dddc31c1983d), but with a few corrections and additional tips and tricks."
   ]
  },
  {
   "cell_type": "code",
   "execution_count": 1,
   "metadata": {
    "jupyter": {
     "outputs_hidden": true
    }
   },
   "outputs": [
    {
     "ename": "ModuleNotFoundError",
     "evalue": "No module named 'geopandas'",
     "output_type": "error",
     "traceback": [
      "\u001b[1;31m---------------------------------------------------------------------------\u001b[0m",
      "\u001b[1;31mModuleNotFoundError\u001b[0m                       Traceback (most recent call last)",
      "\u001b[1;32m<ipython-input-1-578ae2fe1bfb>\u001b[0m in \u001b[0;36m<module>\u001b[1;34m\u001b[0m\n\u001b[0;32m      1\u001b[0m \u001b[1;32mimport\u001b[0m \u001b[0mpandas\u001b[0m \u001b[1;32mas\u001b[0m \u001b[0mpd\u001b[0m\u001b[1;33m\u001b[0m\u001b[1;33m\u001b[0m\u001b[0m\n\u001b[1;32m----> 2\u001b[1;33m \u001b[1;32mimport\u001b[0m \u001b[0mgeopandas\u001b[0m \u001b[1;32mas\u001b[0m \u001b[0mgpd\u001b[0m\u001b[1;33m\u001b[0m\u001b[1;33m\u001b[0m\u001b[0m\n\u001b[0m\u001b[0;32m      3\u001b[0m \u001b[1;32mimport\u001b[0m \u001b[0mmatplotlib\u001b[0m\u001b[1;33m.\u001b[0m\u001b[0mpyplot\u001b[0m \u001b[1;32mas\u001b[0m \u001b[0mplt\u001b[0m\u001b[1;33m\u001b[0m\u001b[1;33m\u001b[0m\u001b[0m\n",
      "\u001b[1;31mModuleNotFoundError\u001b[0m: No module named 'geopandas'"
     ]
    }
   ],
   "source": [
    "import pandas as pd\n",
    "import geopandas as gpd\n",
    "import matplotlib.pyplot as plt"
   ]
  },
  {
   "cell_type": "code",
   "execution_count": null,
   "metadata": {
    "jupyter": {
     "outputs_hidden": true
    }
   },
   "outputs": [],
   "source": [
    "# set the filepath and load in a shapefile\n",
    "fp = 'gis-boundaries-london/ESRI/London_Borough_Excluding_MHW.shp'\n",
    "map_df = gpd.read_file(fp)\n",
    "\n",
    "# check data type so we can see that this is not a normal dataframe, but a GEOdataframe\n",
    "map_df.head()"
   ]
  },
  {
   "cell_type": "code",
   "execution_count": null,
   "metadata": {
    "jupyter": {
     "outputs_hidden": true
    }
   },
   "outputs": [],
   "source": [
    "# plot geodataframe\n",
    "map_df.plot()"
   ]
  },
  {
   "cell_type": "code",
   "execution_count": null,
   "metadata": {
    "jupyter": {
     "outputs_hidden": true
    }
   },
   "outputs": [],
   "source": [
    "# open csv file, make sure you set the right path!\n",
    "df = pd.read_csv('london-borough-profile.csv')\n",
    "df.head()"
   ]
  },
  {
   "cell_type": "code",
   "execution_count": null,
   "metadata": {
    "jupyter": {
     "outputs_hidden": true
    }
   },
   "outputs": [],
   "source": [
    "df.drop([0], axis=0, inplace=True)"
   ]
  },
  {
   "cell_type": "code",
   "execution_count": null,
   "metadata": {
    "jupyter": {
     "outputs_hidden": true
    }
   },
   "outputs": [],
   "source": [
    "# check df\n",
    "df.head()"
   ]
  },
  {
   "cell_type": "code",
   "execution_count": null,
   "metadata": {
    "jupyter": {
     "outputs_hidden": true
    }
   },
   "outputs": [],
   "source": [
    "# select relevant columns\n",
    "df = df[['Area name','Happiness score 2011-14 (out of 10)',\n",
    "         'Anxiety score 2011-14 (out of 10)',\n",
    "         'Population density (per hectare) 2017',\n",
    "         'Mortality rate from causes considered preventable 2012/14']]"
   ]
  },
  {
   "cell_type": "code",
   "execution_count": null,
   "metadata": {
    "jupyter": {
     "outputs_hidden": true
    }
   },
   "outputs": [],
   "source": [
    "# rename columns\n",
    "data_for_map = df.rename(index=str, columns={'Area name': 'borough',\n",
    "                                             'Happiness score 2011-14 (out of 10)': 'happiness',\n",
    "                                             'Anxiety score 2011-14 (out of 10)': 'anxiety',\n",
    "                                             'Population density (per hectare) 2017': 'density',\n",
    "                                             'Mortality rate from causes considered preventable 2012/14': 'mortality'})\n",
    "# check data_for_map dataframe\n",
    "data_for_map.head()"
   ]
  },
  {
   "cell_type": "code",
   "execution_count": null,
   "metadata": {
    "jupyter": {
     "outputs_hidden": true
    }
   },
   "outputs": [],
   "source": [
    "# join the geodataframe with the cleaned up csv dataframe\n",
    "merged = map_df.set_index('NAME').join(data_for_map.set_index('borough'))\n",
    "merged.head()"
   ]
  },
  {
   "cell_type": "code",
   "execution_count": null,
   "metadata": {
    "jupyter": {
     "outputs_hidden": true
    }
   },
   "outputs": [],
   "source": [
    "# quick check for types\n",
    "merged.info()"
   ]
  },
  {
   "cell_type": "code",
   "execution_count": null,
   "metadata": {
    "jupyter": {
     "outputs_hidden": true
    }
   },
   "outputs": [],
   "source": [
    "# correct type for density and mortality\n",
    "merged['density'] = merged.density.astype(float)\n",
    "merged['mortality'] = merged.mortality.astype(float)"
   ]
  },
  {
   "cell_type": "code",
   "execution_count": null,
   "metadata": {
    "jupyter": {
     "outputs_hidden": true
    }
   },
   "outputs": [],
   "source": [
    "# set a variable that will call whatever column we want to visualise on the map\n",
    "variable = 'mortality'\n",
    "\n",
    "# set the range for the choropleth\n",
    "vmin, vmax = 130, 240\n",
    "\n",
    "# create figure and ax subplot with Matplotlib\n",
    "fig, ax = plt.subplots(1, figsize=(10, 6))\n",
    "\n",
    "# create map\n",
    "merged.plot(column=variable, cmap='Blues', linewidth=0.8, ax=ax, edgecolor='0.8')\n",
    "\n",
    "# Now we can customise and add annotations\n",
    "\n",
    "# remove the axis\n",
    "ax.axis('off')\n",
    "\n",
    "# add a title\n",
    "ax.set_title('Preventable death rate in London', \\\n",
    "              fontdict={'fontsize': '25',\n",
    "                        'fontweight' : '3'})\n",
    "\n",
    "# create an annotation for the  data source\n",
    "ax.annotate('Source: London Datastore, 2014',\n",
    "           xy=(0.1, .08), xycoords='figure fraction',\n",
    "           horizontalalignment='left', verticalalignment='top',\n",
    "           fontsize=10, color='#555555')\n",
    "\n",
    "# create colorbar as a legend\n",
    "sm = plt.cm.ScalarMappable(cmap='Blues', norm=plt.Normalize(vmin=vmin, vmax=vmax))\n",
    "sm._A = []\n",
    "cbar = fig.colorbar(sm)\n",
    "# If you are confused about the ._A = [], here is an explanation:\n",
    "# https://stackoverflow.com/questions/8342549/matplotlib-add-colorbar-to-a-sequence-of-line-plots#11558629\n",
    "\n",
    "# this will save the figure as a high-res png. you can also save as svg\n",
    "fig.savefig('testmap.png', dpi=300)"
   ]
  },
  {
   "cell_type": "markdown",
   "metadata": {},
   "source": [
    "## Questions from the Session\n",
    "\n",
    "**What's `ax`?**\n",
    "\n",
    "`ax` is a subplot of the figure. That's the holder for the map you are making.\n",
    "\n",
    "**Why were the colors inverted?**\n",
    "\n",
    "The dataframe had the series `density` and `mortality` as `object` types and that resulted in misrepresentation of the information for those columns. They needed to be turned into `float` in order to be properly interpreted. \n"
   ]
  }
 ],
 "metadata": {
  "kernelspec": {
   "display_name": "Python 3",
   "language": "python",
   "name": "python3"
  },
  "language_info": {
   "codemirror_mode": {
    "name": "ipython",
    "version": 3
   },
   "file_extension": ".py",
   "mimetype": "text/x-python",
   "name": "python",
   "nbconvert_exporter": "python",
   "pygments_lexer": "ipython3",
   "version": "3.7.3"
  }
 },
 "nbformat": 4,
 "nbformat_minor": 4
}
